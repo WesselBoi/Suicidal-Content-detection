{
  "nbformat": 4,
  "nbformat_minor": 0,
  "metadata": {
    "colab": {
      "provenance": [],
      "authorship_tag": "ABX9TyOMBekKrcPmayX4UHaKQsVY",
      "include_colab_link": true
    },
    "kernelspec": {
      "name": "python3",
      "display_name": "Python 3"
    },
    "language_info": {
      "name": "python"
    }
  },
  "cells": [
    {
      "cell_type": "markdown",
      "metadata": {
        "id": "view-in-github",
        "colab_type": "text"
      },
      "source": [
        "<a href=\"https://colab.research.google.com/github/WesselBoi/Suicidal-Content-detection/blob/main/infer_logit.ipynb\" target=\"_parent\"><img src=\"https://colab.research.google.com/assets/colab-badge.svg\" alt=\"Open In Colab\"/></a>"
      ]
    },
    {
      "cell_type": "code",
      "execution_count": null,
      "metadata": {
        "colab": {
          "base_uri": "https://localhost:8080/"
        },
        "id": "BsoYGnX25L99",
        "outputId": "899dc0ff-5411-4bc7-d119-617c27d3e2c8"
      },
      "outputs": [
        {
          "output_type": "stream",
          "name": "stdout",
          "text": [
            "Mounted at /content/drive\n"
          ]
        }
      ],
      "source": [
        "from google.colab import drive\n",
        "drive.mount('/content/drive', force_remount=True)"
      ]
    },
    {
      "cell_type": "code",
      "source": [
        "import os\n",
        "import numpy as np\n",
        "import pickle"
      ],
      "metadata": {
        "id": "HmbC_3my5NwC"
      },
      "execution_count": null,
      "outputs": []
    },
    {
      "cell_type": "code",
      "source": [
        "try:\n",
        "    os.chdir(\"/content/drive/MyDrive/SuicideModel\")\n",
        "    print(\"Directory changed\")\n",
        "except OSError:\n",
        "    print(\"Error: Can't change the Current Working Directory\")\n"
      ],
      "metadata": {
        "id": "Ef5lWNRR5ZNF",
        "colab": {
          "base_uri": "https://localhost:8080/"
        },
        "outputId": "40c9639b-7d2e-4b95-d22e-28caa6130ccb"
      },
      "execution_count": null,
      "outputs": [
        {
          "output_type": "stream",
          "name": "stdout",
          "text": [
            "Directory changed\n"
          ]
        }
      ]
    },
    {
      "cell_type": "code",
      "source": [
        "def load_doc(filename):\n",
        "    with open(filename, 'r') as f:\n",
        "        text = f.read()\n",
        "    return text\n",
        "\n",
        "vocab = set(load_doc('Data/vocab.txt').split())\n",
        "\n",
        "def load_embedding(filename):\n",
        "    with open(filename, 'r') as f:\n",
        "        lines = f.readlines()[1:]\n",
        "    embedding = dict()\n",
        "    for line in lines:\n",
        "        parts = line.split()\n",
        "        embedding[parts[0]] = np.asarray(parts[1:], dtype='float32')\n",
        "    return embedding\n",
        "\n",
        "word2vec = load_embedding('Data/embedding_word2vec.txt')"
      ],
      "metadata": {
        "id": "2bEEEwfF5b7v"
      },
      "execution_count": null,
      "outputs": []
    },
    {
      "cell_type": "code",
      "source": [
        "with open('models_logit_word2vec.pkl', 'rb') as f:\n",
        "    logit_model = pickle.load(f)\n"
      ],
      "metadata": {
        "id": "DEVA61ZO5vhF"
      },
      "execution_count": null,
      "outputs": []
    },
    {
      "cell_type": "code",
      "source": [
        "print(logit_model.n_features_in_)  # should be 300 for Word2Vec-trained"
      ],
      "metadata": {
        "id": "aKD_GqCSA0s3",
        "colab": {
          "base_uri": "https://localhost:8080/"
        },
        "outputId": "71cef273-f79d-4f61-de25-1df06888315e"
      },
      "execution_count": null,
      "outputs": [
        {
          "output_type": "stream",
          "name": "stdout",
          "text": [
            "300\n"
          ]
        }
      ]
    },
    {
      "cell_type": "code",
      "source": [
        "def clean_line(line, vocab):\n",
        "    if not isinstance(line, str):\n",
        "        line = \"\"\n",
        "    tokens = line.split()\n",
        "    return [w for w in tokens if w in vocab]\n",
        "\n",
        "def document_vector(doc, embeddings):\n",
        "    tokens = [word for word in doc if word in embeddings]\n",
        "    if not tokens:\n",
        "        return np.zeros(next(iter(embeddings.values())).shape)\n",
        "    vectors = [embeddings[word] for word in tokens]\n",
        "    return np.mean(vectors, axis=0)\n"
      ],
      "metadata": {
        "id": "q8Fg51ga8HXd"
      },
      "execution_count": null,
      "outputs": []
    },
    {
      "cell_type": "code",
      "source": [
        "def check_intent_logit(text):\n",
        "    tokens = clean_line(text, vocab)\n",
        "    vec = document_vector(tokens, word2vec).reshape(1, -1)\n",
        "    pred = logit_model.predict(vec)[0]\n",
        "    prob = logit_model.predict_proba(vec)[0][1]\n",
        "    return pred, prob\n"
      ],
      "metadata": {
        "id": "rOwUdENK9b88"
      },
      "execution_count": null,
      "outputs": []
    },
    {
      "cell_type": "code",
      "source": [
        "print(check_intent_logit(\"How are you?\"))  # Non-suicidal example\n",
        "print(check_intent_logit(\"I don't belong to this world\"))  # Suicidal example"
      ],
      "metadata": {
        "id": "33sSRBrn9ah9",
        "colab": {
          "base_uri": "https://localhost:8080/"
        },
        "outputId": "83ecf92f-8c6e-4ec0-a867-d8743e2535e3"
      },
      "execution_count": null,
      "outputs": [
        {
          "output_type": "stream",
          "name": "stdout",
          "text": [
            "(np.int64(0), np.float64(0.14377364653671426))\n",
            "(np.int64(1), np.float64(0.949112878193776))\n"
          ]
        }
      ]
    },
    {
      "cell_type": "code",
      "source": [
        "print(check_intent_logit(\"living is overrated\"))"
      ],
      "metadata": {
        "id": "qzOiOmeCBGBh",
        "colab": {
          "base_uri": "https://localhost:8080/"
        },
        "outputId": "e2915c0f-e543-4bc0-93a3-9093cf121e58"
      },
      "execution_count": null,
      "outputs": [
        {
          "output_type": "stream",
          "name": "stdout",
          "text": [
            "(np.int64(1), np.float64(0.9168214388702229))\n"
          ]
        }
      ]
    },
    {
      "cell_type": "code",
      "source": [
        "print(check_intent_logit(\"Life goes on, and I just keep moving.\"))"
      ],
      "metadata": {
        "id": "YJZKvOdsBWGR",
        "colab": {
          "base_uri": "https://localhost:8080/"
        },
        "outputId": "ee06201b-bb7b-470f-a21d-f468281d0960"
      },
      "execution_count": null,
      "outputs": [
        {
          "output_type": "stream",
          "name": "stdout",
          "text": [
            "(np.int64(1), np.float64(0.9458033365752366))\n"
          ]
        }
      ]
    },
    {
      "cell_type": "code",
      "source": [],
      "metadata": {
        "id": "XDsCb0zcBrXi"
      },
      "execution_count": null,
      "outputs": []
    }
  ]
}